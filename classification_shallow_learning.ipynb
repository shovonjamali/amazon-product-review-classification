{
 "cells": [
  {
   "cell_type": "markdown",
   "metadata": {
    "id": "UgxxbZW3aZTA"
   },
   "source": [
    "# Importing libraries"
   ]
  },
  {
   "cell_type": "code",
   "execution_count": 2,
   "metadata": {
    "id": "0VsEmGoLY-nQ",
    "tags": []
   },
   "outputs": [],
   "source": [
    "from sklearn.feature_extraction.text import TfidfVectorizer, CountVectorizer\n",
    "from sklearn.compose import make_column_transformer\n",
    "\n",
    "from sklearn.metrics import accuracy_score, classification_report, confusion_matrix, ConfusionMatrixDisplay, \\\n",
    "                            precision_score, recall_score, f1_score, roc_auc_score, roc_curve\n",
    "\n",
    "from sklearn.model_selection import train_test_split, cross_val_score, cross_val_predict, RandomizedSearchCV\n",
    "\n",
    "from sklearn.svm import SVR, LinearSVC\n",
    "from sklearn.tree import DecisionTreeClassifier\n",
    "from sklearn.ensemble import RandomForestClassifier, GradientBoostingClassifier\n",
    "# from xgboost import XGBClassifier\n",
    "from sklearn import tree\n",
    "\n",
    "import tqdm\n",
    "\n",
    "import pandas as pd\n",
    "import numpy as np\n",
    "import matplotlib.pyplot as plt\n",
    "%matplotlib inline\n",
    "\n",
    "import warnings\n",
    "# Filter out all warnings\n",
    "warnings.filterwarnings(\"ignore\")"
   ]
  },
  {
   "cell_type": "code",
   "execution_count": 4,
   "metadata": {
    "tags": []
   },
   "outputs": [
    {
     "name": "stdout",
     "output_type": "stream",
     "text": [
      "Collecting openpyxl\n",
      "  Downloading openpyxl-3.1.2-py2.py3-none-any.whl (249 kB)\n",
      "     ---------------------------------------- 0.0/250.0 kB ? eta -:--:--\n",
      "     - -------------------------------------- 10.2/250.0 kB ? eta -:--:--\n",
      "     ---- -------------------------------- 30.7/250.0 kB 330.3 kB/s eta 0:00:01\n",
      "     ------------- ----------------------- 92.2/250.0 kB 655.4 kB/s eta 0:00:01\n",
      "     ---------------------------------- --- 225.3/250.0 kB 1.3 MB/s eta 0:00:01\n",
      "     -------------------------------------- 250.0/250.0 kB 1.1 MB/s eta 0:00:00\n",
      "Collecting et-xmlfile (from openpyxl)\n",
      "  Using cached et_xmlfile-1.1.0-py3-none-any.whl (4.7 kB)\n",
      "Installing collected packages: et-xmlfile, openpyxl\n",
      "Successfully installed et-xmlfile-1.1.0 openpyxl-3.1.2\n"
     ]
    }
   ],
   "source": [
    "!pip install openpyxl"
   ]
  },
  {
   "cell_type": "markdown",
   "metadata": {
    "id": "kg1ji7aftSBC"
   },
   "source": [
    "# Reading the corpus"
   ]
  },
  {
   "cell_type": "markdown",
   "metadata": {
    "id": "W8rDXAEJ_vrU"
   },
   "source": [
    "*   Reading training data from [corpus.xlsx](https://docs.google.com/spreadsheets/d/1fYERAxi5YWi0eP7M5txpOr0sfNMuNuKm/edit?usp=drive_web&ouid=105822911867262178394&rtpof=true)\n",
    "*   Reading small training data from [corpus-small.xlsx](https://docs.google.com/spreadsheets/d/1pcb1Zop1TEp1p9Ato3EyRgt42JgpfiKV/edit?usp=drive_web&ouid=105822911867262178394&rtpof=true)\n",
    "*   Reading test data from [corpus-test.xlsx](https://docs.google.com/spreadsheets/d/1HHQn69_gzqE7ibNMgqQwseY--7SiatwG/edit?usp=drive_web&ouid=105822911867262178394&rtpof=true)"
   ]
  },
  {
   "cell_type": "markdown",
   "metadata": {
    "id": "0zULvYYStZYn"
   },
   "source": [
    "## Training data"
   ]
  },
  {
   "cell_type": "code",
   "execution_count": 5,
   "metadata": {
    "colab": {
     "base_uri": "https://localhost:8080/",
     "height": 293
    },
    "id": "CiP2dK-AarPw",
    "outputId": "e32aa863-9792-485e-e1eb-309a52da5ba9",
    "tags": []
   },
   "outputs": [
    {
     "name": "stdout",
     "output_type": "stream",
     "text": [
      "(493829, 7)\n"
     ]
    },
    {
     "data": {
      "text/html": [
       "<div>\n",
       "<style scoped>\n",
       "    .dataframe tbody tr th:only-of-type {\n",
       "        vertical-align: middle;\n",
       "    }\n",
       "\n",
       "    .dataframe tbody tr th {\n",
       "        vertical-align: top;\n",
       "    }\n",
       "\n",
       "    .dataframe thead th {\n",
       "        text-align: right;\n",
       "    }\n",
       "</style>\n",
       "<table border=\"1\" class=\"dataframe\">\n",
       "  <thead>\n",
       "    <tr style=\"text-align: right;\">\n",
       "      <th></th>\n",
       "      <th>reviewText</th>\n",
       "      <th>summary</th>\n",
       "      <th>overall</th>\n",
       "      <th>numberofWords</th>\n",
       "      <th>numberofSentences</th>\n",
       "      <th>reviewLength</th>\n",
       "      <th>summaryLength</th>\n",
       "    </tr>\n",
       "  </thead>\n",
       "  <tbody>\n",
       "    <tr>\n",
       "      <th>0</th>\n",
       "      <td>nearly large enough front rear 2005 dodge ram ...</td>\n",
       "      <td>nearly large enough front rear</td>\n",
       "      <td>1</td>\n",
       "      <td>26</td>\n",
       "      <td>1</td>\n",
       "      <td>150</td>\n",
       "      <td>55</td>\n",
       "    </tr>\n",
       "    <tr>\n",
       "      <th>1</th>\n",
       "      <td>2 3 broke first day wearing glad kept spare ba...</td>\n",
       "      <td>glad kept spare back set goggles</td>\n",
       "      <td>1</td>\n",
       "      <td>30</td>\n",
       "      <td>1</td>\n",
       "      <td>158</td>\n",
       "      <td>46</td>\n",
       "    </tr>\n",
       "    <tr>\n",
       "      <th>2</th>\n",
       "      <td>bearing groaned whined box ended sourcing delc...</td>\n",
       "      <td>one star</td>\n",
       "      <td>1</td>\n",
       "      <td>10</td>\n",
       "      <td>1</td>\n",
       "      <td>70</td>\n",
       "      <td>8</td>\n",
       "    </tr>\n",
       "    <tr>\n",
       "      <th>3</th>\n",
       "      <td>think product good claimed bottom line efficie...</td>\n",
       "      <td>would buy</td>\n",
       "      <td>1</td>\n",
       "      <td>46</td>\n",
       "      <td>1</td>\n",
       "      <td>304</td>\n",
       "      <td>24</td>\n",
       "    </tr>\n",
       "    <tr>\n",
       "      <th>4</th>\n",
       "      <td>poor reception</td>\n",
       "      <td>one star</td>\n",
       "      <td>1</td>\n",
       "      <td>2</td>\n",
       "      <td>1</td>\n",
       "      <td>14</td>\n",
       "      <td>8</td>\n",
       "    </tr>\n",
       "  </tbody>\n",
       "</table>\n",
       "</div>"
      ],
      "text/plain": [
       "                                          reviewText  \\\n",
       "0  nearly large enough front rear 2005 dodge ram ...   \n",
       "1  2 3 broke first day wearing glad kept spare ba...   \n",
       "2  bearing groaned whined box ended sourcing delc...   \n",
       "3  think product good claimed bottom line efficie...   \n",
       "4                                     poor reception   \n",
       "\n",
       "                            summary  overall  numberofWords  \\\n",
       "0    nearly large enough front rear        1             26   \n",
       "1  glad kept spare back set goggles        1             30   \n",
       "2                          one star        1             10   \n",
       "3                         would buy        1             46   \n",
       "4                          one star        1              2   \n",
       "\n",
       "   numberofSentences  reviewLength  summaryLength  \n",
       "0                  1           150             55  \n",
       "1                  1           158             46  \n",
       "2                  1            70              8  \n",
       "3                  1           304             24  \n",
       "4                  1            14              8  "
      ]
     },
     "execution_count": 5,
     "metadata": {},
     "output_type": "execute_result"
    }
   ],
   "source": [
    "df = pd.read_excel('./data/corpus.xlsx')\n",
    "print(df.shape)\n",
    "df.head()"
   ]
  },
  {
   "cell_type": "markdown",
   "metadata": {
    "id": "JfZo9l6bteaU"
   },
   "source": [
    "## Verifying no missing value for training set"
   ]
  },
  {
   "cell_type": "code",
   "execution_count": 6,
   "metadata": {
    "colab": {
     "base_uri": "https://localhost:8080/"
    },
    "id": "pbBxP2ve8T_X",
    "outputId": "ccb435c9-938e-425d-89d1-7490e09ff6e4",
    "tags": []
   },
   "outputs": [
    {
     "data": {
      "text/plain": [
       "reviewText           0\n",
       "summary              0\n",
       "overall              0\n",
       "numberofWords        0\n",
       "numberofSentences    0\n",
       "reviewLength         0\n",
       "summaryLength        0\n",
       "dtype: int64"
      ]
     },
     "execution_count": 6,
     "metadata": {},
     "output_type": "execute_result"
    }
   ],
   "source": [
    "df.isnull().sum()"
   ]
  },
  {
   "cell_type": "code",
   "execution_count": 7,
   "metadata": {
    "colab": {
     "base_uri": "https://localhost:8080/"
    },
    "id": "TGrJBdkVldtg",
    "outputId": "3bf496a2-12a1-4cae-c9e5-2036572b06b2",
    "tags": []
   },
   "outputs": [
    {
     "name": "stdout",
     "output_type": "stream",
     "text": [
      "(493829, 7)\n"
     ]
    }
   ],
   "source": [
    "df = df.dropna(subset=['reviewText', 'summary', 'overall'])\n",
    "print(df.shape)"
   ]
  },
  {
   "cell_type": "markdown",
   "metadata": {
    "id": "TkVEZqBdifVK"
   },
   "source": [
    "## Reading small training data"
   ]
  },
  {
   "cell_type": "code",
   "execution_count": 8,
   "metadata": {
    "colab": {
     "base_uri": "https://localhost:8080/",
     "height": 380
    },
    "id": "wbCnvTD_ies7",
    "outputId": "81953a83-f148-471a-9fa0-53fd7a42b24a",
    "tags": []
   },
   "outputs": [
    {
     "name": "stdout",
     "output_type": "stream",
     "text": [
      "(89234, 7)\n"
     ]
    },
    {
     "data": {
      "text/html": [
       "<div>\n",
       "<style scoped>\n",
       "    .dataframe tbody tr th:only-of-type {\n",
       "        vertical-align: middle;\n",
       "    }\n",
       "\n",
       "    .dataframe tbody tr th {\n",
       "        vertical-align: top;\n",
       "    }\n",
       "\n",
       "    .dataframe thead th {\n",
       "        text-align: right;\n",
       "    }\n",
       "</style>\n",
       "<table border=\"1\" class=\"dataframe\">\n",
       "  <thead>\n",
       "    <tr style=\"text-align: right;\">\n",
       "      <th></th>\n",
       "      <th>reviewText</th>\n",
       "      <th>summary</th>\n",
       "      <th>overall</th>\n",
       "      <th>numberofWords</th>\n",
       "      <th>numberofSentences</th>\n",
       "      <th>reviewLength</th>\n",
       "      <th>summaryLength</th>\n",
       "    </tr>\n",
       "  </thead>\n",
       "  <tbody>\n",
       "    <tr>\n",
       "      <th>0</th>\n",
       "      <td>didnt get use broken received</td>\n",
       "      <td>one star</td>\n",
       "      <td>1</td>\n",
       "      <td>5</td>\n",
       "      <td>1</td>\n",
       "      <td>29</td>\n",
       "      <td>8</td>\n",
       "    </tr>\n",
       "    <tr>\n",
       "      <th>1</th>\n",
       "      <td>brand acrylic craft paint worst coverage paint...</td>\n",
       "      <td>brand acrylic craft paint worst coverage paint...</td>\n",
       "      <td>1</td>\n",
       "      <td>20</td>\n",
       "      <td>1</td>\n",
       "      <td>120</td>\n",
       "      <td>81</td>\n",
       "    </tr>\n",
       "    <tr>\n",
       "      <th>2</th>\n",
       "      <td>bought threading small seed bead felting much ...</td>\n",
       "      <td>good beading felted project</td>\n",
       "      <td>1</td>\n",
       "      <td>17</td>\n",
       "      <td>1</td>\n",
       "      <td>111</td>\n",
       "      <td>36</td>\n",
       "    </tr>\n",
       "    <tr>\n",
       "      <th>3</th>\n",
       "      <td>wanted decorate mug mad hatter tea wish hadnt ...</td>\n",
       "      <td>total dud</td>\n",
       "      <td>1</td>\n",
       "      <td>29</td>\n",
       "      <td>1</td>\n",
       "      <td>181</td>\n",
       "      <td>9</td>\n",
       "    </tr>\n",
       "    <tr>\n",
       "      <th>4</th>\n",
       "      <td>caused air bubble painttried different paint a...</td>\n",
       "      <td>bubble</td>\n",
       "      <td>1</td>\n",
       "      <td>13</td>\n",
       "      <td>1</td>\n",
       "      <td>92</td>\n",
       "      <td>7</td>\n",
       "    </tr>\n",
       "  </tbody>\n",
       "</table>\n",
       "</div>"
      ],
      "text/plain": [
       "                                          reviewText  \\\n",
       "0                      didnt get use broken received   \n",
       "1  brand acrylic craft paint worst coverage paint...   \n",
       "2  bought threading small seed bead felting much ...   \n",
       "3  wanted decorate mug mad hatter tea wish hadnt ...   \n",
       "4  caused air bubble painttried different paint a...   \n",
       "\n",
       "                                             summary  overall  numberofWords  \\\n",
       "0                                           one star        1              5   \n",
       "1  brand acrylic craft paint worst coverage paint...        1             20   \n",
       "2                        good beading felted project        1             17   \n",
       "3                                          total dud        1             29   \n",
       "4                                             bubble        1             13   \n",
       "\n",
       "   numberofSentences  reviewLength  summaryLength  \n",
       "0                  1            29              8  \n",
       "1                  1           120             81  \n",
       "2                  1           111             36  \n",
       "3                  1           181              9  \n",
       "4                  1            92              7  "
      ]
     },
     "execution_count": 8,
     "metadata": {},
     "output_type": "execute_result"
    }
   ],
   "source": [
    "df_small = pd.read_excel('./data/corpus-small.xlsx')\n",
    "print(df_small.shape)\n",
    "df_small.head()"
   ]
  },
  {
   "cell_type": "code",
   "execution_count": null,
   "metadata": {},
   "outputs": [],
   "source": [
    "df_small['overall'].value_counts()"
   ]
  },
  {
   "cell_type": "markdown",
   "metadata": {
    "id": "JksgSZ4PmDIn"
   },
   "source": [
    "## Verifying no missing value for small training set"
   ]
  },
  {
   "cell_type": "code",
   "execution_count": 9,
   "metadata": {
    "colab": {
     "base_uri": "https://localhost:8080/"
    },
    "id": "awDMfiNNmHp7",
    "outputId": "572ea75c-1dd4-46d1-ac26-73fa1c7da511",
    "tags": []
   },
   "outputs": [
    {
     "data": {
      "text/plain": [
       "reviewText            35\n",
       "summary              378\n",
       "overall                0\n",
       "numberofWords          0\n",
       "numberofSentences      0\n",
       "reviewLength           0\n",
       "summaryLength          0\n",
       "dtype: int64"
      ]
     },
     "execution_count": 9,
     "metadata": {},
     "output_type": "execute_result"
    }
   ],
   "source": [
    "df_small.isnull().sum()"
   ]
  },
  {
   "cell_type": "code",
   "execution_count": 10,
   "metadata": {
    "colab": {
     "base_uri": "https://localhost:8080/"
    },
    "id": "OFMWnNE5mZde",
    "outputId": "6d28fe92-a6a9-40b1-8fcb-929cf521dd2a",
    "tags": []
   },
   "outputs": [
    {
     "name": "stdout",
     "output_type": "stream",
     "text": [
      "(88821, 7)\n"
     ]
    }
   ],
   "source": [
    "df_small = df_small.dropna(subset=['reviewText', 'summary', 'overall'])\n",
    "print(df_small.shape)"
   ]
  },
  {
   "cell_type": "markdown",
   "metadata": {
    "id": "AN1yxl8KuXgN"
   },
   "source": [
    "## Reading test data"
   ]
  },
  {
   "cell_type": "code",
   "execution_count": 11,
   "metadata": {
    "colab": {
     "base_uri": "https://localhost:8080/",
     "height": 223
    },
    "id": "NucUdczKOCE8",
    "outputId": "f179f680-23ab-4b69-82f9-2a832868daab",
    "tags": []
   },
   "outputs": [
    {
     "name": "stdout",
     "output_type": "stream",
     "text": [
      "(23720, 3)\n"
     ]
    },
    {
     "data": {
      "text/html": [
       "<div>\n",
       "<style scoped>\n",
       "    .dataframe tbody tr th:only-of-type {\n",
       "        vertical-align: middle;\n",
       "    }\n",
       "\n",
       "    .dataframe tbody tr th {\n",
       "        vertical-align: top;\n",
       "    }\n",
       "\n",
       "    .dataframe thead th {\n",
       "        text-align: right;\n",
       "    }\n",
       "</style>\n",
       "<table border=\"1\" class=\"dataframe\">\n",
       "  <thead>\n",
       "    <tr style=\"text-align: right;\">\n",
       "      <th></th>\n",
       "      <th>reviewText</th>\n",
       "      <th>summary</th>\n",
       "      <th>overall</th>\n",
       "    </tr>\n",
       "  </thead>\n",
       "  <tbody>\n",
       "    <tr>\n",
       "      <th>0</th>\n",
       "      <td>received didnt check saw need ran went use spr...</td>\n",
       "      <td>bad wont spray</td>\n",
       "      <td>1</td>\n",
       "    </tr>\n",
       "    <tr>\n",
       "      <th>1</th>\n",
       "      <td>didnt work didnt get warm buy save money buy n...</td>\n",
       "      <td>save money</td>\n",
       "      <td>1</td>\n",
       "    </tr>\n",
       "    <tr>\n",
       "      <th>2</th>\n",
       "      <td>must obeyed made clear like product period lis...</td>\n",
       "      <td>chemical mostlyvery little melon</td>\n",
       "      <td>1</td>\n",
       "    </tr>\n",
       "    <tr>\n",
       "      <th>3</th>\n",
       "      <td>name shade clearly pink left pink absolutely c...</td>\n",
       "      <td>color expected</td>\n",
       "      <td>1</td>\n",
       "    </tr>\n",
       "    <tr>\n",
       "      <th>4</th>\n",
       "      <td>came inside plastic bag half bottle spilled ev...</td>\n",
       "      <td>totally wasted half product</td>\n",
       "      <td>1</td>\n",
       "    </tr>\n",
       "  </tbody>\n",
       "</table>\n",
       "</div>"
      ],
      "text/plain": [
       "                                          reviewText  \\\n",
       "0  received didnt check saw need ran went use spr...   \n",
       "1  didnt work didnt get warm buy save money buy n...   \n",
       "2  must obeyed made clear like product period lis...   \n",
       "3  name shade clearly pink left pink absolutely c...   \n",
       "4  came inside plastic bag half bottle spilled ev...   \n",
       "\n",
       "                            summary  overall  \n",
       "0                    bad wont spray        1  \n",
       "1                        save money        1  \n",
       "2  chemical mostlyvery little melon        1  \n",
       "3                    color expected        1  \n",
       "4       totally wasted half product        1  "
      ]
     },
     "execution_count": 11,
     "metadata": {},
     "output_type": "execute_result"
    }
   ],
   "source": [
    "df_test = pd.read_excel('./data/corpus-test.xlsx', usecols=['reviewText', 'summary', 'overall'])\n",
    "print(df_test.shape)\n",
    "df_test.head()"
   ]
  },
  {
   "cell_type": "markdown",
   "metadata": {
    "id": "H2EOHJy6utjO"
   },
   "source": [
    "## Verifying no missing value for test set"
   ]
  },
  {
   "cell_type": "code",
   "execution_count": 12,
   "metadata": {
    "colab": {
     "base_uri": "https://localhost:8080/"
    },
    "id": "H2m8xkoJuw9l",
    "outputId": "1f887462-ed31-4ce6-a2ad-1fb9f53de572",
    "tags": []
   },
   "outputs": [
    {
     "data": {
      "text/plain": [
       "reviewText    0\n",
       "summary       0\n",
       "overall       0\n",
       "dtype: int64"
      ]
     },
     "execution_count": 12,
     "metadata": {},
     "output_type": "execute_result"
    }
   ],
   "source": [
    "df_test.isnull().sum()"
   ]
  },
  {
   "cell_type": "code",
   "execution_count": 13,
   "metadata": {
    "colab": {
     "base_uri": "https://localhost:8080/"
    },
    "id": "EraByET16QMI",
    "outputId": "3a1e49c3-c7c0-487f-fb6c-d37794a1d08b",
    "tags": []
   },
   "outputs": [
    {
     "name": "stdout",
     "output_type": "stream",
     "text": [
      "(23720, 3)\n"
     ]
    }
   ],
   "source": [
    "df_test = df_test.dropna(subset=['reviewText', 'summary', 'overall'])\n",
    "print(df_test.shape)"
   ]
  },
  {
   "cell_type": "code",
   "execution_count": null,
   "metadata": {
    "id": "JvH0Z67FhUSt"
   },
   "outputs": [],
   "source": [
    "# print(vectorizer.vocabulary_)"
   ]
  },
  {
   "cell_type": "markdown",
   "metadata": {
    "id": "Vw8PGkYTOeMJ"
   },
   "source": [
    "# Preparing Training and Test set"
   ]
  },
  {
   "cell_type": "markdown",
   "metadata": {
    "id": "f7RS3qPMm1dk"
   },
   "source": [
    "## Main set"
   ]
  },
  {
   "cell_type": "code",
   "execution_count": 31,
   "metadata": {
    "colab": {
     "base_uri": "https://localhost:8080/"
    },
    "id": "1Ry7flj1Od1c",
    "outputId": "3e017fcf-6741-4c92-cfa9-b298d4a7f0e2",
    "tags": []
   },
   "outputs": [
    {
     "name": "stdout",
     "output_type": "stream",
     "text": [
      "X shape: (493829, 2)\n",
      "y shape: (493829,)\n",
      "X_test shape: (23720, 2)\n",
      "y_test shape: (23720,)\n"
     ]
    }
   ],
   "source": [
    "# Create the feature matrix X\n",
    "X = df[['reviewText', 'summary']]\n",
    "\n",
    "# Create the target variable y\n",
    "y = df['overall']\n",
    "\n",
    "X_test = df_test[['reviewText', 'summary']]\n",
    "y_test = df_test['overall']\n",
    "\n",
    "# Print the shapes of the resulting sets\n",
    "print(\"X shape:\", X.shape)\n",
    "print(\"y shape:\", y.shape)\n",
    "print(\"X_test shape:\", X_test.shape)\n",
    "print(\"y_test shape:\", y_test.shape)"
   ]
  },
  {
   "cell_type": "code",
   "execution_count": null,
   "metadata": {},
   "outputs": [],
   "source": [
    "# Split the data into training and validation sets\n",
    "X_train, X_val, y_train, y_val = train_test_split(X, y, test_size=0.2, random_state=42)"
   ]
  },
  {
   "cell_type": "markdown",
   "metadata": {
    "id": "xTFiaQ03m4Gn"
   },
   "source": [
    "## Small set"
   ]
  },
  {
   "cell_type": "code",
   "execution_count": 11,
   "metadata": {
    "colab": {
     "base_uri": "https://localhost:8080/"
    },
    "id": "jNeQuv17mzIt",
    "outputId": "2f0d3b57-da0d-4aaf-98c4-78372203d3eb"
   },
   "outputs": [
    {
     "name": "stdout",
     "output_type": "stream",
     "text": [
      "X_train shape: (88821, 2)\n",
      "y_train shape: (88821,)\n",
      "X_test shape: (23720, 2)\n",
      "y_test shape: (23720,)\n"
     ]
    }
   ],
   "source": [
    "# Create the feature matrix X\n",
    "X_train_small = df_small[['reviewText', 'summary']]\n",
    "\n",
    "# Create the target variable y\n",
    "y_train_small = df_small['overall']\n",
    "\n",
    "X_test = df_test[['reviewText', 'summary']]\n",
    "y_test = df_test['overall']\n",
    "\n",
    "# Split the data into training and validation sets\n",
    "# X_train, X_val, y_train, y_val = train_test_split(X, y, test_size=0.2, random_state=42)\n",
    "\n",
    "# Print the shapes of the resulting sets\n",
    "print(\"X_train shape:\", X_train_small.shape)\n",
    "print(\"y_train shape:\", y_train_small.shape)\n",
    "print(\"X_test shape:\", X_test.shape)\n",
    "print(\"y_test shape:\", y_test.shape)"
   ]
  },
  {
   "cell_type": "code",
   "execution_count": 15,
   "metadata": {
    "id": "mIGZSCVS5wWZ",
    "tags": []
   },
   "outputs": [],
   "source": [
    "# Vectorization for main set\n",
    "vectorizer = CountVectorizer()\n",
    "transformer = make_column_transformer((vectorizer, 'reviewText'), (vectorizer, 'summary'))\n",
    "\n",
    "X_train = transformer.fit_transform(X_train)\n",
    "X_test = transformer.transform(X_test)"
   ]
  },
  {
   "cell_type": "code",
   "execution_count": 12,
   "metadata": {
    "id": "J41Twt1knf_C"
   },
   "outputs": [],
   "source": [
    "# Vectorization for small set\n",
    "vectorizer = CountVectorizer()\n",
    "transformer = make_column_transformer((vectorizer, 'reviewText'), (vectorizer, 'summary'))\n",
    "\n",
    "X_train_small = transformer.fit_transform(X_train_small)\n",
    "X_test = transformer.transform(X_test)"
   ]
  },
  {
   "cell_type": "markdown",
   "metadata": {
    "id": "mCzI7MMQ6Ou8"
   },
   "source": [
    "# Exploring different models"
   ]
  },
  {
   "cell_type": "code",
   "execution_count": 16,
   "metadata": {
    "id": "lYzbXMYd2-46"
   },
   "outputs": [],
   "source": [
    "models = {\n",
    "    \"Decision Tree\": DecisionTreeClassifier(),\n",
    "    \"Random Forest\": RandomForestClassifier(),\n",
    "    \"Gradient Boosting\": GradientBoostingClassifier()\n",
    "}"
   ]
  },
  {
   "cell_type": "code",
   "execution_count": 17,
   "metadata": {
    "id": "xYoG_rImnvms"
   },
   "outputs": [],
   "source": [
    "def explore_models(X_train, y_train, X_test, y_test):\n",
    "  for i in tqdm.tqdm(range(len(models))):\n",
    "\n",
    "    model = list(models.values())[i]\n",
    "    model.fit(X_train, y_train)\n",
    "\n",
    "    # Make predictions\n",
    "    y_train_pred = model.predict(X_train)\n",
    "    y_test_pred = model.predict(X_test)\n",
    "\n",
    "    # Training set performence\n",
    "    model_train_accuracy = accuracy_score(y_true = y_train, y_pred = y_train_pred)\n",
    "    model_train_f1 = f1_score(y_true = y_train, y_pred = y_train_pred, average='weighted')\n",
    "    model_train_precision = precision_score(y_true = y_train, y_pred = y_train_pred, average='weighted')\n",
    "    model_train_recall = recall_score(y_true = y_train, y_pred = y_train_pred, average='weighted')\n",
    "    # model_train_roc_auc_score = roc_auc_score(y_true = y_train, y_score = y_train_pred, average='weighted')\n",
    "\n",
    "    # Test set performence\n",
    "    model_test_accuracy = accuracy_score(y_true = y_test, y_pred = y_test_pred)\n",
    "    model_test_f1 = f1_score(y_true = y_test, y_pred = y_test_pred, average='weighted')\n",
    "    model_test_precision = precision_score(y_true = y_test, y_pred = y_test_pred, average='weighted')\n",
    "    model_test_recall = recall_score(y_true = y_test, y_pred = y_test_pred, average='weighted')\n",
    "    # model_test_roc_auc_score = roc_auc_score(y_true = y_train, y_score = y_test_pred, average='weighted')\n",
    "\n",
    "    print('\\n')\n",
    "    print(list(models.keys())[i])\n",
    "\n",
    "    print('Model performence for Training set')\n",
    "    #print(\"- Accuracy: {:.4f}\".format(model_train_accuracy))\n",
    "    print(f\"- Accuracy: {model_train_accuracy:.4f}\")\n",
    "    print(f\"- F1 score: {model_train_f1:.4f}\")\n",
    "    print(f\"- Precision: {model_train_precision:.4f}\")\n",
    "    print(f\"- Recall: {model_train_recall:.4f}\")\n",
    "    # print(f\"- ROC AUC score: {model_train_roc_auc_score:.4f}\")\n",
    "\n",
    "    print('Model performence for Test set')\n",
    "    print(f\"- Accuracy: {model_test_accuracy:.4f}\")\n",
    "    print(f\"- F1 score: {model_test_f1:.4f}\")\n",
    "    print(f\"- Precision: {model_test_precision:.4f}\")\n",
    "    print(f\"- Recall: {model_test_recall:.4f}\")\n",
    "    # print(f\"- ROC AUC score: {model_test_roc_auc_score:.4f}\")\n",
    "\n",
    "    print('=' * 35)\n",
    "    print('\\n')"
   ]
  },
  {
   "cell_type": "markdown",
   "metadata": {
    "id": "DkV60j_Ood2Q"
   },
   "source": [
    "Test on a small test on default settings for the provided models"
   ]
  },
  {
   "cell_type": "code",
   "execution_count": 18,
   "metadata": {
    "colab": {
     "base_uri": "https://localhost:8080/"
    },
    "id": "aTQH_LM36XC3",
    "outputId": "8e903bab-7681-4688-c76b-fbf3d5f30268"
   },
   "outputs": [
    {
     "name": "stderr",
     "output_type": "stream",
     "text": [
      " 33%|███▎      | 1/3 [03:39<07:19, 219.70s/it]"
     ]
    },
    {
     "name": "stdout",
     "output_type": "stream",
     "text": [
      "\n",
      "\n",
      "Decision Tree\n",
      "Model performence for Training set\n",
      "- Accuracy: 0.9999\n",
      "- F1 score: 0.9999\n",
      "- Precision: 0.9999\n",
      "- Recall: 0.9999\n",
      "Model performence for Test set\n",
      "- Accuracy: 0.4161\n",
      "- F1 score: 0.4601\n",
      "- Precision: 0.4161\n",
      "- Recall: 0.5562\n",
      "===================================\n",
      "\n",
      "\n"
     ]
    },
    {
     "name": "stderr",
     "output_type": "stream",
     "text": [
      " 67%|██████▋   | 2/3 [30:40<17:23, 1043.80s/it]"
     ]
    },
    {
     "name": "stdout",
     "output_type": "stream",
     "text": [
      "\n",
      "\n",
      "Random Forest\n",
      "Model performence for Training set\n",
      "- Accuracy: 0.9999\n",
      "- F1 score: 0.9999\n",
      "- Precision: 0.9999\n",
      "- Recall: 0.9999\n",
      "Model performence for Test set\n",
      "- Accuracy: 0.5446\n",
      "- F1 score: 0.5678\n",
      "- Precision: 0.5446\n",
      "- Recall: 0.6073\n",
      "===================================\n",
      "\n",
      "\n"
     ]
    },
    {
     "name": "stderr",
     "output_type": "stream",
     "text": [
      "100%|██████████| 3/3 [35:32<00:00, 710.93s/it]"
     ]
    },
    {
     "name": "stdout",
     "output_type": "stream",
     "text": [
      "\n",
      "\n",
      "Gradient Boosting\n",
      "Model performence for Training set\n",
      "- Accuracy: 0.5525\n",
      "- F1 score: 0.5539\n",
      "- Precision: 0.5525\n",
      "- Recall: 0.5702\n",
      "Model performence for Test set\n",
      "- Accuracy: 0.5468\n",
      "- F1 score: 0.5783\n",
      "- Precision: 0.5468\n",
      "- Recall: 0.6332\n",
      "===================================\n",
      "\n",
      "\n"
     ]
    },
    {
     "name": "stderr",
     "output_type": "stream",
     "text": [
      "\n"
     ]
    }
   ],
   "source": [
    "explore_models(X_train = X_train_small, y_train = y_train_small, X_test = X_test, y_test = y_test)"
   ]
  },
  {
   "cell_type": "markdown",
   "metadata": {
    "id": "-Fce71eBC41s"
   },
   "source": [
    "# Hyperparameter tuning"
   ]
  },
  {
   "cell_type": "markdown",
   "metadata": {},
   "source": [
    "## Searching optimal params for small set"
   ]
  },
  {
   "cell_type": "code",
   "execution_count": 23,
   "metadata": {
    "tags": []
   },
   "outputs": [
    {
     "name": "stdout",
     "output_type": "stream",
     "text": [
      "X_train shape: (71056, 2)\n",
      "y_train shape: (71056,)\n",
      "X_val shape: (17765, 2)\n",
      "y_val shape: (17765,)\n",
      "X_test shape: (23720, 2)\n",
      "y_test shape: (23720,)\n"
     ]
    }
   ],
   "source": [
    "# Specify the number of records you want to use\n",
    "# num_records = 90000\n",
    "\n",
    "# Create the feature matrix X\n",
    "X = df_small[['reviewText', 'summary']]\n",
    "\n",
    "# Create the target variable y\n",
    "y = df_small['overall']\n",
    "\n",
    "# Use only the first num_records records for training and validation\n",
    "# X_train, X_val, y_train, y_val = train_test_split(X.iloc[:num_records], y.iloc[:num_records], test_size=0.2, random_state=42)\n",
    "X_train, X_val, y_train, y_val = train_test_split(X, y, test_size=0.2, random_state=42)\n",
    "\n",
    "# Similarly, use only the first num_records records for testing\n",
    "X_test = df_test[['reviewText', 'summary']].iloc[:num_records]\n",
    "y_test = df_test['overall'].iloc[:num_records]\n",
    "\n",
    "# Print the shapes of the resulting sets\n",
    "print(\"X_train shape:\", X_train.shape)\n",
    "print(\"y_train shape:\", y_train.shape)\n",
    "print(\"X_val shape:\", X_val.shape)\n",
    "print(\"y_val shape:\", y_val.shape)\n",
    "print(\"X_test shape:\", X_test.shape)\n",
    "print(\"y_test shape:\", y_test.shape)"
   ]
  },
  {
   "cell_type": "code",
   "execution_count": 24,
   "metadata": {
    "tags": []
   },
   "outputs": [],
   "source": [
    "# Vectorization for main set\n",
    "vectorizer = CountVectorizer()\n",
    "transformer = make_column_transformer((vectorizer, 'reviewText'), (vectorizer, 'summary'))\n",
    "\n",
    "X_train = transformer.fit_transform(X_train)\n",
    "X_val = transformer.transform(X_val)\n",
    "X_test = transformer.transform(X_test)"
   ]
  },
  {
   "cell_type": "code",
   "execution_count": 25,
   "metadata": {
    "tags": []
   },
   "outputs": [
    {
     "name": "stderr",
     "output_type": "stream",
     "text": [
      "100%|██████████████████████████████████████████████████████████████████████████████| 3/3 [10:03:08<00:00, 12062.91s/it]\n"
     ]
    },
    {
     "name": "stdout",
     "output_type": "stream",
     "text": [
      "    Accuracy  n_estimators  min_samples_split  min_samples_leaf\n",
      "0   0.515227            50                 15                 5\n",
      "1   0.513988            50                 15                10\n",
      "2   0.513763            50                 15                15\n",
      "3   0.514382            50                 20                 5\n",
      "4   0.513988            50                 20                10\n",
      "5   0.513763            50                 20                15\n",
      "6   0.516127            50                 25                 5\n",
      "7   0.514382            50                 25                10\n",
      "8   0.513763            50                 25                15\n",
      "9   0.549733           200                 15                 5\n",
      "10  0.551646           200                 15                10\n",
      "11  0.548776           200                 15                15\n",
      "12  0.550802           200                 20                 5\n",
      "13  0.550239           200                 20                10\n",
      "14  0.548776           200                 20                15\n",
      "15  0.550014           200                 25                 5\n",
      "16  0.550127           200                 25                10\n",
      "17  0.548776           200                 25                15\n",
      "18  0.567520           500                 15                 5\n",
      "19  0.568871           500                 15                10\n",
      "20  0.566732           500                 15                15\n",
      "21  0.565212           500                 20                 5\n",
      "22  0.566845           500                 20                10\n",
      "23  0.566732           500                 20                15\n",
      "24  0.566563           500                 25                 5\n",
      "25  0.569265           500                 25                10\n",
      "26  0.567464           500                 25                15\n"
     ]
    }
   ],
   "source": [
    "n_estimators_list = [50, 200, 500]\n",
    "min_samples_split_list = [15, 20, 25]\n",
    "min_samples_leaf_list = [5, 10, 15]\n",
    "\n",
    "hyperparameter_score_list = []\n",
    "results = []\n",
    "\n",
    "for n_estimators in tqdm.tqdm(n_estimators_list):\n",
    "    for min_samples_split in min_samples_split_list:\n",
    "        for min_samples_leaf in min_samples_leaf_list:\n",
    "            gbt_current = GradientBoostingClassifier(\n",
    "                n_estimators=n_estimators,\n",
    "                min_samples_split=min_samples_split,\n",
    "                min_samples_leaf=min_samples_leaf,\n",
    "                )\n",
    "            gbt_current.fit(X_train, y_train)\n",
    "            y_val_hat = gbt_current.predict(X_val)\n",
    "            acc = accuracy_score(y_val, y_val_hat)\n",
    "\n",
    "            results.append([acc, n_estimators, min_samples_split, min_samples_leaf])\n",
    "\n",
    "results = pd.DataFrame(results)\n",
    "results.columns = ['Accuracy', 'n_estimators', 'min_samples_split', 'min_samples_leaf']\n",
    "print(results)"
   ]
  },
  {
   "cell_type": "code",
   "execution_count": 26,
   "metadata": {
    "tags": []
   },
   "outputs": [],
   "source": [
    "# Extract best parameters\n",
    "n_estimators_optimal = results.loc[results['Accuracy'].idxmax()]['n_estimators'].astype(int)\n",
    "min_samples_split_optimal = results.loc[results['Accuracy'].idxmax()]['min_samples_split'].astype(int)\n",
    "min_samples_leaf_optimal = results.loc[results['Accuracy'].idxmax()]['min_samples_leaf'].astype(int)"
   ]
  },
  {
   "cell_type": "code",
   "execution_count": 27,
   "metadata": {
    "tags": []
   },
   "outputs": [
    {
     "name": "stdout",
     "output_type": "stream",
     "text": [
      "500\n",
      "25\n",
      "10\n"
     ]
    }
   ],
   "source": [
    "print(n_estimators_optimal)\n",
    "print(min_samples_split_optimal)\n",
    "print(min_samples_leaf_optimal)"
   ]
  },
  {
   "cell_type": "markdown",
   "metadata": {},
   "source": [
    "# Training on full set with optimal params"
   ]
  },
  {
   "cell_type": "code",
   "execution_count": 32,
   "metadata": {
    "tags": []
   },
   "outputs": [],
   "source": [
    "# Vectorization for full set\n",
    "vectorizer = CountVectorizer()\n",
    "transformer = make_column_transformer((vectorizer, 'reviewText'), (vectorizer, 'summary'))\n",
    "\n",
    "X = transformer.fit_transform(X)\n",
    "X_test = transformer.transform(X_test)"
   ]
  },
  {
   "cell_type": "code",
   "execution_count": 35,
   "metadata": {
    "tags": []
   },
   "outputs": [
    {
     "data": {
      "text/html": [
       "<style>#sk-container-id-1 {color: black;}#sk-container-id-1 pre{padding: 0;}#sk-container-id-1 div.sk-toggleable {background-color: white;}#sk-container-id-1 label.sk-toggleable__label {cursor: pointer;display: block;width: 100%;margin-bottom: 0;padding: 0.3em;box-sizing: border-box;text-align: center;}#sk-container-id-1 label.sk-toggleable__label-arrow:before {content: \"▸\";float: left;margin-right: 0.25em;color: #696969;}#sk-container-id-1 label.sk-toggleable__label-arrow:hover:before {color: black;}#sk-container-id-1 div.sk-estimator:hover label.sk-toggleable__label-arrow:before {color: black;}#sk-container-id-1 div.sk-toggleable__content {max-height: 0;max-width: 0;overflow: hidden;text-align: left;background-color: #f0f8ff;}#sk-container-id-1 div.sk-toggleable__content pre {margin: 0.2em;color: black;border-radius: 0.25em;background-color: #f0f8ff;}#sk-container-id-1 input.sk-toggleable__control:checked~div.sk-toggleable__content {max-height: 200px;max-width: 100%;overflow: auto;}#sk-container-id-1 input.sk-toggleable__control:checked~label.sk-toggleable__label-arrow:before {content: \"▾\";}#sk-container-id-1 div.sk-estimator input.sk-toggleable__control:checked~label.sk-toggleable__label {background-color: #d4ebff;}#sk-container-id-1 div.sk-label input.sk-toggleable__control:checked~label.sk-toggleable__label {background-color: #d4ebff;}#sk-container-id-1 input.sk-hidden--visually {border: 0;clip: rect(1px 1px 1px 1px);clip: rect(1px, 1px, 1px, 1px);height: 1px;margin: -1px;overflow: hidden;padding: 0;position: absolute;width: 1px;}#sk-container-id-1 div.sk-estimator {font-family: monospace;background-color: #f0f8ff;border: 1px dotted black;border-radius: 0.25em;box-sizing: border-box;margin-bottom: 0.5em;}#sk-container-id-1 div.sk-estimator:hover {background-color: #d4ebff;}#sk-container-id-1 div.sk-parallel-item::after {content: \"\";width: 100%;border-bottom: 1px solid gray;flex-grow: 1;}#sk-container-id-1 div.sk-label:hover label.sk-toggleable__label {background-color: #d4ebff;}#sk-container-id-1 div.sk-serial::before {content: \"\";position: absolute;border-left: 1px solid gray;box-sizing: border-box;top: 0;bottom: 0;left: 50%;z-index: 0;}#sk-container-id-1 div.sk-serial {display: flex;flex-direction: column;align-items: center;background-color: white;padding-right: 0.2em;padding-left: 0.2em;position: relative;}#sk-container-id-1 div.sk-item {position: relative;z-index: 1;}#sk-container-id-1 div.sk-parallel {display: flex;align-items: stretch;justify-content: center;background-color: white;position: relative;}#sk-container-id-1 div.sk-item::before, #sk-container-id-1 div.sk-parallel-item::before {content: \"\";position: absolute;border-left: 1px solid gray;box-sizing: border-box;top: 0;bottom: 0;left: 50%;z-index: -1;}#sk-container-id-1 div.sk-parallel-item {display: flex;flex-direction: column;z-index: 1;position: relative;background-color: white;}#sk-container-id-1 div.sk-parallel-item:first-child::after {align-self: flex-end;width: 50%;}#sk-container-id-1 div.sk-parallel-item:last-child::after {align-self: flex-start;width: 50%;}#sk-container-id-1 div.sk-parallel-item:only-child::after {width: 0;}#sk-container-id-1 div.sk-dashed-wrapped {border: 1px dashed gray;margin: 0 0.4em 0.5em 0.4em;box-sizing: border-box;padding-bottom: 0.4em;background-color: white;}#sk-container-id-1 div.sk-label label {font-family: monospace;font-weight: bold;display: inline-block;line-height: 1.2em;}#sk-container-id-1 div.sk-label-container {text-align: center;}#sk-container-id-1 div.sk-container {/* jupyter's `normalize.less` sets `[hidden] { display: none; }` but bootstrap.min.css set `[hidden] { display: none !important; }` so we also need the `!important` here to be able to override the default hidden behavior on the sphinx rendered scikit-learn.org. See: https://github.com/scikit-learn/scikit-learn/issues/21755 */display: inline-block !important;position: relative;}#sk-container-id-1 div.sk-text-repr-fallback {display: none;}</style><div id=\"sk-container-id-1\" class=\"sk-top-container\"><div class=\"sk-text-repr-fallback\"><pre>GradientBoostingClassifier(min_samples_leaf=10, min_samples_split=25,\n",
       "                           n_estimators=500)</pre><b>In a Jupyter environment, please rerun this cell to show the HTML representation or trust the notebook. <br />On GitHub, the HTML representation is unable to render, please try loading this page with nbviewer.org.</b></div><div class=\"sk-container\" hidden><div class=\"sk-item\"><div class=\"sk-estimator sk-toggleable\"><input class=\"sk-toggleable__control sk-hidden--visually\" id=\"sk-estimator-id-1\" type=\"checkbox\" checked><label for=\"sk-estimator-id-1\" class=\"sk-toggleable__label sk-toggleable__label-arrow\">GradientBoostingClassifier</label><div class=\"sk-toggleable__content\"><pre>GradientBoostingClassifier(min_samples_leaf=10, min_samples_split=25,\n",
       "                           n_estimators=500)</pre></div></div></div></div></div>"
      ],
      "text/plain": [
       "GradientBoostingClassifier(min_samples_leaf=10, min_samples_split=25,\n",
       "                           n_estimators=500)"
      ]
     },
     "execution_count": 35,
     "metadata": {},
     "output_type": "execute_result"
    }
   ],
   "source": [
    "# Initialize the final model\n",
    "gbt_optimal = GradientBoostingClassifier(\n",
    "                n_estimators=n_estimators_optimal,\n",
    "                min_samples_split=min_samples_split_optimal,\n",
    "                min_samples_leaf=min_samples_leaf_optimal,\n",
    "                )\n",
    "\n",
    "gbt_optimal.fit(X, y)"
   ]
  },
  {
   "cell_type": "code",
   "execution_count": 36,
   "metadata": {
    "tags": []
   },
   "outputs": [],
   "source": [
    "y_test_hat = gbt_optimal.predict(X_test)\n",
    "# acc = accuracy_score(y_test, y_test_hat)"
   ]
  },
  {
   "cell_type": "code",
   "execution_count": 41,
   "metadata": {
    "tags": []
   },
   "outputs": [],
   "source": [
    "y_train_pred = gbt_optimal.predict(X)"
   ]
  },
  {
   "cell_type": "markdown",
   "metadata": {},
   "source": [
    "## Accuracy, precision, recall, f1-score after final training"
   ]
  },
  {
   "cell_type": "code",
   "execution_count": 43,
   "metadata": {
    "tags": []
   },
   "outputs": [],
   "source": [
    "train_accuracy = accuracy_score(y_true = y, y_pred = y_train_pred)\n",
    "train_f1 = f1_score(y_true = y, y_pred = y_train_pred, average='weighted')\n",
    "train_precision = precision_score(y_true = y, y_pred = y_train_pred, average='weighted')\n",
    "train_recall = recall_score(y_true = y, y_pred = y_train_pred, average='weighted')"
   ]
  },
  {
   "cell_type": "code",
   "execution_count": 44,
   "metadata": {
    "tags": []
   },
   "outputs": [],
   "source": [
    "test_accuracy = accuracy_score(y_true = y_test, y_pred = y_test_hat)\n",
    "test_f1 = f1_score(y_true = y_test, y_pred = y_test_hat, average='weighted')\n",
    "test_precision = precision_score(y_true = y_test, y_pred = y_test_hat, average='weighted')\n",
    "test_recall = recall_score(y_true = y_test, y_pred = y_test_hat, average='weighted')"
   ]
  },
  {
   "cell_type": "code",
   "execution_count": 47,
   "metadata": {
    "tags": []
   },
   "outputs": [
    {
     "name": "stdout",
     "output_type": "stream",
     "text": [
      "Model performance for Training set:\n",
      "Accuracy: 0.5810\n",
      "F1 score: 0.5776\n",
      "Precision: 0.5784\n",
      "Recall: 0.5810\n"
     ]
    }
   ],
   "source": [
    "print('Model performance for Training set:')\n",
    "print(f\"Accuracy: {train_accuracy:.4f}\")\n",
    "print(f\"F1 score: {train_f1:.4f}\")\n",
    "print(f\"Precision: {train_precision:.4f}\")\n",
    "print(f\"Recall: {train_recall:.4f}\")"
   ]
  },
  {
   "cell_type": "code",
   "execution_count": 48,
   "metadata": {
    "tags": []
   },
   "outputs": [
    {
     "name": "stdout",
     "output_type": "stream",
     "text": [
      "Model performance for Test set:\n",
      "Accuracy: 0.5510\n",
      "F1 score: 0.5773\n",
      "Precision: 0.6407\n",
      "Recall: 0.5510\n"
     ]
    }
   ],
   "source": [
    "print('Model performance for Test set:')\n",
    "print(f\"Accuracy: {test_accuracy:.4f}\")\n",
    "print(f\"F1 score: {test_f1:.4f}\")\n",
    "print(f\"Precision: {test_precision:.4f}\")\n",
    "print(f\"Recall: {test_recall:.4f}\")"
   ]
  }
 ],
 "metadata": {
  "colab": {
   "provenance": []
  },
  "kernelspec": {
   "display_name": "Python 3 (ipykernel)",
   "language": "python",
   "name": "python3"
  },
  "language_info": {
   "codemirror_mode": {
    "name": "ipython",
    "version": 3
   },
   "file_extension": ".py",
   "mimetype": "text/x-python",
   "name": "python",
   "nbconvert_exporter": "python",
   "pygments_lexer": "ipython3",
   "version": "3.10.13"
  }
 },
 "nbformat": 4,
 "nbformat_minor": 4
}
